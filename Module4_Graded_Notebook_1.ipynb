{
  "nbformat": 4,
  "nbformat_minor": 0,
  "metadata": {
    "colab": {
      "provenance": [],
      "include_colab_link": true
    },
    "kernelspec": {
      "name": "python3",
      "display_name": "Python 3"
    },
    "language_info": {
      "name": "python"
    }
  },
  "cells": [
    {
      "cell_type": "markdown",
      "metadata": {
        "id": "view-in-github",
        "colab_type": "text"
      },
      "source": [
        "<a href=\"https://colab.research.google.com/github/CDeGrazia/module-4/blob/main/Module4_Graded_Notebook_1.ipynb\" target=\"_parent\"><img src=\"https://colab.research.google.com/assets/colab-badge.svg\" alt=\"Open In Colab\"/></a>"
      ]
    },
    {
      "cell_type": "markdown",
      "source": [
        "# Graded Notebook 1\n",
        "**Possible 112 points out of 100.**\n",
        "\n",
        "* Your name here: \n",
        "* The shared link to this notebook here: "
      ],
      "metadata": {
        "id": "jNKt4oUDTuQ7"
      }
    },
    {
      "cell_type": "markdown",
      "source": [
        "## **Task 1** (30 points possible)\n",
        "*  The User will be prompted for their name, The program will display a message to the user that is a combination of a constant that you declared and the user input.\n",
        "\n",
        "      *  Comments and code organization are expected to adhere to the requirements discussed in the course. **10 pts**\n",
        "      *  User prompt meets expectations **10 pts**\n",
        "      *  Output meets expectations **10 pts**"
      ],
      "metadata": {
        "id": "OpUjuUbtTy2a"
      }
    },
    {
      "cell_type": "code",
      "source": [
        "def display_message(name):\n",
        "    message = \"Hello \" + name + \", I am a sentiant program, nice to meet you.\"\n",
        "    return message\n",
        "\n",
        "name = input(\"Enter your name: \")\n",
        "print(display_message(name))\n",
        "\n"
      ],
      "metadata": {
        "id": "NucAGBbZqyDI",
        "colab": {
          "base_uri": "https://localhost:8080/"
        },
        "outputId": "d75f0909-cace-41bb-f2ae-74b35c8891f3"
      },
      "execution_count": null,
      "outputs": [
        {
          "output_type": "stream",
          "name": "stdout",
          "text": [
            "Enter your name: Colin\n",
            "Hello Colin, I am a sentiant program, nice to meet you.\n"
          ]
        }
      ]
    },
    {
      "cell_type": "markdown",
      "source": [
        "## **Task 2** (32 points possible)\n",
        "*  The user will enter a number that will be stored and divided by 3. The output will be in decimal format.\n",
        "\n",
        "     *  Comments and code organization are expected to adhere to the requirements discussed in the course. **10 pts**\n",
        "     *  User prompt meets expectations **10 pts**\n",
        "     *  Output meets expectations **10 pts**\n",
        "\n",
        "**2 bonus points** applied if output is formatted in the format of two decimal precision points.\n",
        "\n",
        "example: 1.23"
      ],
      "metadata": {
        "id": "kVD-ynbMTzC5"
      }
    },
    {
      "cell_type": "code",
      "source": [
        "def divide_by_3(num):\n",
        "    result = num / 3\n",
        "    return format(result, '.2f')\n",
        "\n",
        "num = float(input(\"Enter a number: \"))\n",
        "print(divide_by_3(num))\n"
      ],
      "metadata": {
        "id": "6dtfAbOaqxi4",
        "colab": {
          "base_uri": "https://localhost:8080/"
        },
        "outputId": "30cd78a2-75a7-46e6-865b-53384632d088"
      },
      "execution_count": null,
      "outputs": [
        {
          "output_type": "stream",
          "name": "stdout",
          "text": [
            "Enter a number: 89.62\n",
            "29.87\n"
          ]
        }
      ]
    },
    {
      "cell_type": "markdown",
      "source": [
        "## **Task 3** (50 points possible)\n",
        "*  The user will be prompted to enter their name and age and based on the age the program will determine how many years remain until retirement at age 65, or if retirement age has been reached. From there the program will either congratulate the user on retirement or provide one of two outputs based on the length of time until retirement. You determine the number of years remaining conditions for those two outputs. \n",
        "      *  Comments and code organization are expected to adhere to the requirements discussed in the course.**5 pts**\n",
        "      *  User prompt meets expectations **5 pts**\n",
        "      *  There are a total of three different outputs expected based on user age input. **30 pts (10 pts ea.)**\n",
        "\n",
        "**Example Output:** “Congratulations George, it will only be 5 years until you are eligible to retire. “\n",
        "\n",
        "**Bonus points** if the built in Date module is used to calculate the current year and calculate what year the user will retire.\n",
        "Example: “Congratulations George, it will only be 5 years until you are eligible to retire in 2027. “**10 pts**\n"
      ],
      "metadata": {
        "id": "ZjmrLEZiTzXB"
      }
    },
    {
      "cell_type": "code",
      "source": [
        " import datetime\n",
        "\n",
        "def calculate_retirement(name, age):\n",
        "    now = datetime.datetime.now()\n",
        "    current_year = now.year\n",
        "    retirement_year = 65 - age + current_year\n",
        "\n",
        "    if age < 65:\n",
        "        years_until_retirement = retirement_year - current_year\n",
        "        if years_until_retirement > 10:\n",
        "            return f\"{name}, you have {years_until_retirement} years left until retirement in {retirement_year}.\"\n",
        "        else:\n",
        "            return f\"Congratulations {name}, it will only be {years_until_retirement} years until you are eligible to retire in {retirement_year}.\"\n",
        "    else:\n",
        "        return f\"Congratulations {name}! You have already retired in {current_year}.\"\n",
        "\n",
        "name = input(\"Enter your name: \")vd\n",
        "age = int(input(\"Enter your age: \"))\n",
        "print(calculate_retirement(name, age))\n"
      ],
      "metadata": {
        "id": "PrRYLDW6lbeo",
        "colab": {
          "base_uri": "https://localhost:8080/"
        },
        "outputId": "e6a65fac-e77f-4f5e-8179-4f75c06bc91d"
      },
      "execution_count": null,
      "outputs": [
        {
          "output_type": "stream",
          "name": "stdout",
          "text": [
            "Enter your name: colin\n",
            "Enter your age: 61\n",
            "Congratulations colin, it will only be 4 years until you are eligible to retire in 2027.\n"
          ]
        }
      ]
    }
  ]
}