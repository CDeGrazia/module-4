{
  "cells": [
    {
      "cell_type": "markdown",
      "metadata": {
        "id": "view-in-github",
        "colab_type": "text"
      },
      "source": [
        "<a href=\"https://colab.research.google.com/github/CDeGrazia/module-4/blob/main/GD_COLIND_Copy_of_COP1000_Graded_Notebook_3.ipynb\" target=\"_parent\"><img src=\"https://colab.research.google.com/assets/colab-badge.svg\" alt=\"Open In Colab\"/></a>"
      ]
    },
    {
      "cell_type": "markdown",
      "metadata": {
        "id": "R6OmsErsrc7M"
      },
      "source": [
        "# Graded Notebook 3\n",
        "* **Possible 130 points out of 100.**\n",
        "\n",
        "* Your name here: Colin DeGrazia\n",
        "* The shared link to this notebook here: https://colab.research.google.com/drive/1c3gfJi4AcjfYbi2WHRIzuLHj1RdiekpG?usp=sharing"
      ]
    },
    {
      "cell_type": "markdown",
      "metadata": {
        "id": "dkOfTZt3rdMv"
      },
      "source": [
        "## **Task 1** (40 points possible)\n",
        "*  In this lab, you complete a partially prewritten Python program that uses a list.\n",
        "\n",
        "The program prompts the user to interactively enter eight batting averages, which the program stores in an array. It should then find the minimum and maximum batting averages stored in the array, as well as the average of the eight batting averages. The data file provided for this lab includes the input statement and some variable declarations. Comments are included in the file to help you write the remainder of the program.\n",
        "\n",
        "* Write the Python statements as indicated by the comments.\n",
        "* Execute the program by clicking the Run button at the bottom of the screen. Enter the following batting averages: .299, .157, .242, .203, .198, .333, .270, .190. The minimum batting average should be .157 and the maximum batting average should be .333. The average should be .2365.\n",
        "\n",
        "    * Comments and code organization are expected to adhere to the requirements discussed in the course. **10 pts**\n",
        "    *  While loop funtions as expected **10 pts**\n",
        "    *  Lists is accessed as expected **10**\n",
        "    *  Output meets expectations (average is calculated correctly)  **10 pts**\n"
      ]
    },
    {
      "cell_type": "code",
      "execution_count": null,
      "metadata": {
        "id": "5v5mf802y-nw"
      },
      "outputs": [],
      "source": []
    },
    {
      "cell_type": "code",
      "execution_count": null,
      "metadata": {
        "id": "GT_nGehwy_G6",
        "colab": {
          "base_uri": "https://localhost:8080/"
        },
        "outputId": "55e26df0-626a-46cb-d649-805b2b2c20ca"
      },
      "outputs": [
        {
          "output_type": "stream",
          "name": "stdout",
          "text": [
            "Enter a batting average: .299\n",
            "Enter a batting average: .157\n",
            "Enter a batting average: .242\n",
            "Enter a batting average: .203\n",
            "Enter a batting average: .198\n",
            "Enter a batting average: .333\n",
            "Enter a batting average: .270\n",
            "Enter a batting average: .190\n",
            "Batting averages\n",
            "0\n",
            "0\n",
            "0\n",
            "0\n",
            "0\n",
            "0\n",
            "0\n",
            "0.19\n",
            "Maximum batting average: 0.19\n",
            "Minimum batting average: 0\n",
            "Average batting average: 0.02375\n"
          ]
        }
      ],
      "source": [
        "# Declare a named constant for array size here.\n",
        "MAX_AVERAGES = 8\n",
        "\n",
        "# Declare array here.\n",
        "averages = [0] * MAX_AVERAGES\n",
        "# Write a loop to get batting averages from user and assign to array.\n",
        "for i in range(MAX_AVERAGES):\n",
        "    averageString = input(\"Enter a batting average: \")\n",
        "    battingAverage = float(averageString)\n",
        "    # Assign value to array.\n",
        "averages[i] = battingAverage\n",
        "# Assign the first element in the array to be the minimum and the maximum.\n",
        "minAverage = averages[0]\n",
        "maxAverage = averages[0]\n",
        "# Start out your total with the value of the first element in the array.\n",
        "total = averages[0]\n",
        "# Write a loop here to access array values starting with averages[1]\n",
        "for i in range(1, MAX_AVERAGES):\n",
        "    # Within the loop test for minimum and maximum batting averages.\n",
        "  if averages[i] < minAverage:\n",
        "    minAverage = average[i]\n",
        "  if averages[i] > maxAverage:\n",
        "    maxAverage = averages[i]\n",
        "\n",
        "\n",
        "\n",
        "    # Also accumulate a total of all batting averages.\n",
        "total += averages[i]\n",
        "\n",
        "# Calculate the average of the 8 batting averages.\n",
        "average = total / MAX_AVERAGES\n",
        "\n",
        "# Print the batting averages stored in the averages array.\n",
        "print(\"Batting averages\")\n",
        "for i in range(MAX_AVERAGES):\n",
        "  print(averages[i])\n",
        "\n",
        "# Print the maximum batting average, minimum batting average, and average batting average.\n",
        "print(\"Maximum batting average:\", maxAverage)\n",
        "print(\"Minimum batting average:\", minAverage)\n",
        "print(\"Average batting average:\", average)"
      ]
    },
    {
      "cell_type": "markdown",
      "metadata": {
        "id": "f2UkESAPru7Q"
      },
      "source": [
        "## **Task 2** (40 points possible)\n",
        "*  In this task, you use what you have learned about searching a list to find an exact match to complete a partially prewritten Python program.\n",
        "\n",
        "The program uses a list that contains valid names for 10 cities in Michigan. You ask the user to enter a city name; your program then searches the list for that city name. If it is not found, the program should print a message that informs the user the city name is not found in the list of valid cities in Michigan.\n",
        "\n",
        "The starter file provided for this lab includes input statements. You need to write code to examine all the items in the list and test for a match. You also need to determine if you should print the \"Not a city in Michigan.\" message.\n",
        "\n",
        "Comments in the code tell you where to write your statements.\n",
        "\n",
        "* Write a loop statement that examines the names of cities stored in the list.\n",
        "* Write code that tests for a match.\n",
        "* Write code that, when appropriate, prints the message \"Not a city in Michigan.\".\n",
        "* Execute the program using the following as input to test it:\n",
        "  * Chicago\n",
        "  * Brooklyn\n",
        "  * Watervliet\n",
        "  * Acme\n",
        "\n",
        "\n",
        "* Comments and code organization are expected to adhere to the requirements discussed in the course. **5 pts**\n",
        "* Program produces the correct output for invalid input **10 pts**\n",
        "* Program produces the correct output for valid input **10 pts**\n",
        "* ***(Bonus points)*** create a loop using a sentinel value to allow the user to repeat the task and test several words ratherthan just one and done. **15 pts**\n",
        "\n"
      ]
    },
    {
      "cell_type": "code",
      "execution_count": null,
      "metadata": {
        "id": "oBmqAkNTrwcb",
        "colab": {
          "base_uri": "https://localhost:8080/"
        },
        "outputId": "19e8e328-1981-4f38-8b99-818ea3e1ea26"
      },
      "outputs": [
        {
          "output_type": "stream",
          "name": "stdout",
          "text": [
            "Enter name of city: Detroit\n",
            "city found.\n"
          ]
        }
      ],
      "source": [
        "# Input:  Interactive\n",
        "# Output:  Error message or nothing\n",
        "\n",
        "# Initialized list of cities\n",
        "citiesInMichigan = [\"Acme\", \"Albion\", \"Detroit\", \"Watervliet\", \"Coloma\", \"Saginaw\", \"Richland\", \"Glenn\", \"Midland\", \"Brooklyn\"] \n",
        "\n",
        "# Get user input\n",
        "inCity = input(\"Enter name of city: \")\n",
        "\n",
        "\n",
        "# Write your test statement here to see if there is a match.\n",
        "if inCity in citiesInMichigan:\n",
        "# If the city is found, print \"City found.\"\n",
        "  print(\"city found.\")\n",
        "else:\n",
        "# Otherwise, \"Not a city in Michigan\" message should be printed. \n",
        "  print(\"Not a city in Michagan.\")"
      ]
    },
    {
      "cell_type": "markdown",
      "metadata": {
        "id": "ErpMPcgDrwnb"
      },
      "source": [
        "## **Task 3** (50 points possible)\n",
        "*  Create a dictionary to store 10 words (of your choice) that have one or more values associated with the word. Please have some with multiple values. \n",
        "Have the user to perform a search of the directory words to return the values associated with it.\n",
        "\n",
        "* Comments and code organization are expected to adhere to the requirements discussed in the course. **5 pts**\n",
        "* Dict setup as expected **10 pts**\n",
        "* Disct is accessed/searched as expected **10 pts**\n",
        "* Output meets expectations (values associated with the words are displayed) **10 pts**\n",
        "* ***(Bonus points)*** create a loop using a sentinel value to allow the user to repeat the task and test several words ratherthan just one and done. **15 pts**"
      ]
    },
    {
      "cell_type": "code",
      "execution_count": null,
      "metadata": {
        "colab": {
          "base_uri": "https://localhost:8080/"
        },
        "id": "XhEOQaFsr9Rh",
        "outputId": "75b00065-7507-49ef-eb19-cf28fa1f3531"
      },
      "outputs": [
        {
          "name": "stdout",
          "output_type": "stream",
          "text": [
            "Enter a rock band name (or 'q' to quit): Nirvana\n",
            "Values associated with Nirvana:\n",
            "Kurt Cobain\n",
            "Krist Novoselic\n",
            "Dave Grohl\n",
            "Enter a rock band name (or 'q' to quit): Pink Floyd\n",
            "Values associated with Pink Floyd:\n",
            "David Gilmour\n",
            "Roger Waters\n",
            "Richard Wright\n",
            "Nick Mason\n",
            "Enter a rock band name (or 'q' to quit): Led Zeppelin\n",
            "Values associated with Led Zeppelin:\n",
            "Robert Plant\n",
            "Jimmy Page\n",
            "John Paul Jones\n",
            "John Bonham\n",
            "Enter a rock band name (or 'q' to quit): q\n"
          ]
        }
      ],
      "source": [
        "# Your code here\n",
        "# Create dictionary of rock band names and associated values\n",
        "rock_bands = {\n",
        "    \"Queen\": [\"Freddie Mercury\", \"Brian May\", \"Roger Taylor\", \"John Deacon\"],\n",
        "    \"Led Zeppelin\": [\"Robert Plant\", \"Jimmy Page\", \"John Paul Jones\", \"John Bonham\"],\n",
        "    \"The Who\": [\"Roger Daltrey\", \"Pete Townshend\", \"John Entwistle\", \"Keith Moon\"],\n",
        "    \"Nirvana\": [\"Kurt Cobain\", \"Krist Novoselic\", \"Dave Grohl\"],\n",
        "    \"Radiohead\": [\"Thom Yorke\", \"Jonny Greenwood\", \"Ed O'Brien\", \"Colin Greenwood\", \"Phil Selway\"],\n",
        "    \"Pink Floyd\": [\"David Gilmour\", \"Roger Waters\", \"Richard Wright\", \"Nick Mason\"],\n",
        "    \"Metallica\": [\"James Hetfield\", \"Kirk Hammett\", \"Robert Trujillo\", \"Lars Ulrich\"],\n",
        "    \"Rage Against the Machine\": [\"Zack de la Rocha\", \"Tom Morello\", \"Tim Commerford\", \"Brad Wilk\"],\n",
        "    \"Green Day\": [\"Billie Joe Armstrong\", \"Mike Dirnt\", \"Tré Cool\"],\n",
        "    \"Pearl Jam\": [\"Eddie Vedder\", \"Mike McCready\", \"Stone Gossard\", \"Jeff Ament\", \"Matt Cameron\"]\n",
        "}\n",
        "\n",
        "# Allow user to search for values associated with rock band names\n",
        "while True:\n",
        "    # Have the user enter a rock band name\n",
        "    search_term = input(\"Enter a rock band name (or 'q' to quit): \")\n",
        "    if search_term == \"q\":\n",
        "        break\n",
        "    elif search_term in rock_bands:\n",
        "        # Print the associated values if the rock band name is in the dictionary\n",
        "        print(\"Values associated with\", search_term + \":\")\n",
        "        for value in rock_bands[search_term]:\n",
        "            print(value)\n",
        "    else:\n",
        "        print(\"No values found for\", search_term)\n"
      ]
    }
  ],
  "metadata": {
    "colab": {
      "provenance": [],
      "include_colab_link": true
    },
    "kernelspec": {
      "display_name": "Python 3",
      "name": "python3"
    },
    "language_info": {
      "name": "python"
    }
  },
  "nbformat": 4,
  "nbformat_minor": 0
}